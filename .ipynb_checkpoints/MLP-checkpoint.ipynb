{
 "cells": [
  {
   "cell_type": "code",
   "execution_count": 14,
   "metadata": {
    "collapsed": true
   },
   "outputs": [],
   "source": [
    "#multi layer perceptron"
   ]
  },
  {
   "cell_type": "code",
   "execution_count": 15,
   "metadata": {
    "collapsed": false
   },
   "outputs": [],
   "source": [
    "#import statements\n",
    "__docformat__ = 'restructedtext en'\n",
    "\n",
    "\n",
    "import os\n",
    "import sys\n",
    "import timeit\n",
    "\n",
    "import numpy\n",
    "\n",
    "import theano\n",
    "import theano.tensor as T\n",
    "import cPickle\n",
    "import gzip\n",
    "import os\n",
    "import sys\n",
    "import timeit\n",
    "import numpy\n",
    "import theano\n",
    "import theano.tensor as T\n",
    "import numpy as np"
   ]
  },
  {
   "cell_type": "code",
   "execution_count": 16,
   "metadata": {
    "collapsed": true
   },
   "outputs": [],
   "source": [
    "#the five variables that are passed to each function or class are: self, rng, n_in,n_out, "
   ]
  },
  {
   "cell_type": "code",
   "execution_count": 17,
   "metadata": {
    "collapsed": true
   },
   "outputs": [],
   "source": [
    "#there are two classes and one function. that's hidden layer, mlp and sgd_test. hidden layer has those 5 paramaters above and weights, b and activation. mlp \n",
    "#has the same 5 plus n_hidden_units, sgd_test has a bunch of hyper paramaters. epochs, learning_rate, l1, l2, batch_size, n_hidden, "
   ]
  },
  {
   "cell_type": "code",
   "execution_count": 18,
   "metadata": {
    "collapsed": true
   },
   "outputs": [],
   "source": [
    "def load_data(dataset): \n",
    "    #include checking for if it already exists\n",
    "    origin = ( 'http://www.iro.umontreal.ca/~lisa/deep/data/mnist/mnist.pkl.gz' )\n",
    "    dataset = 'MNIST'\n",
    "    import urllib\n",
    "    urllib.urlretrieve(origin, dataset)\n",
    "    '''downloads the file to the current working directoty and makes a file in that one'''\n",
    "    f = gzip.open(dataset, 'rb')#looks in current directy on path\n",
    "    train_set, test_set, val_set = cPickle.load(f)\n",
    "    f.close()\n",
    "    def shared_dataset(data_xy, borrow = True):\n",
    "        data_x, data_y = data_xy \n",
    "        shared_x = theano.shared(numpy.asarray(data_x, dtype = theano.config.floatX), \n",
    "                                 borrow = borrow )\n",
    "        shared_y = theano.shared(numpy.asarray(data_y, dtype = theano.config.floatX), \n",
    "                                 borrow = borrow )\n",
    "        return shared_x, T.cast(shared_y, 'int32' )\n",
    "    test_set_x, test_set_y = shared_dataset(test_set)\n",
    "    valid_set_x, valid_set_y = shared_dataset(val_set)\n",
    "    train_set_x, train_set_y = shared_dataset(train_set)\n",
    "    rval = [(train_set_x, train_set_y), (valid_set_x, valid_set_y),\n",
    "            (test_set_x, test_set_y)]\n",
    "    return rval \n",
    "#must make the data itself a shared varaible so it can be used with theano functions. \n"
   ]
  },
  {
   "cell_type": "code",
   "execution_count": 19,
   "metadata": {
    "collapsed": false
   },
   "outputs": [],
   "source": [
    "def splitNum(dataset,batch_size):\n",
    "    datasets=dataset\n",
    "    train_set_x , train_set_y = datasets[0]\n",
    "    valid_set_x, valid_set_y = datasets[1]\n",
    "    test_set_x, test_set_y = datasets[2]\n",
    "    n_train_batches = train_set_x.get_value(borrow=True).shape[0] / batch_size\n",
    "    n_valid_batches = valid_set_x.get_value(borrow=True).shape[0] / batch_size\n",
    "    n_test_batches = test_set_x.get_value(borrow=True).shape[0] / batch_size\n",
    "    return train_set_x , train_set_y, valid_set_x, valid_set_y, test_set_x, test_set_y, n_train_batches, n_valid_batches,n_test_batches\n"
   ]
  },
  {
   "cell_type": "code",
   "execution_count": null,
   "metadata": {
    "collapsed": false
   },
   "outputs": [],
   "source": []
  },
  {
   "cell_type": "code",
   "execution_count": 20,
   "metadata": {
    "collapsed": false
   },
   "outputs": [],
   "source": [
    "class hiddenLayer(object):\n",
    "    #everything in the class is callable from the when it is instantiated so. \n",
    "    #both w and b need to be shared varaibles because they are interacting with data which is in a numpy array\n",
    "    \n",
    "    def __init__(self,rng, input, nin,nout,W=None, b = None, activation = T.tanh):\n",
    "        self.input = input\n",
    "        \n",
    "        if W is None:\n",
    "            W_values = np.assarray(rng.uniform, low=-numpy.sqrt(6. / (nin + nout),\n",
    "                    high=numpy.sqrt(6. / (nin + nout)),\n",
    "                    size=(nin, nout)) , dtype = theano.config.floatX, )#say what the theano datatype is\n",
    "            if activation == theano.tensor.nnet.sigmoid:\n",
    "                W_value *= 4\n",
    "            W = theano.shard(values = W_values, name = 'W' , borrow = True)#create the shared variable\n",
    "        if b is None:\n",
    "            b_values = numpy.zeroes((nout) , dtype = theano.config.floatX)#it is important that the dtype is the theano value \n",
    "            b = theano.shared(values = b_values , name = 'b', borrow = True)\n",
    "        self.W = W\n",
    "        self.b = b\n",
    "        lin_output = T.dot(input,self.W)# do a matrix multiplication before the function\n",
    "        self.output = ( lin_output if activation is None\n",
    "                        else activation(lin_output))#take the tan.h of the input as the out put of the layer.\n",
    "        \n",
    "        self.params = [self.W,self.b]\n",
    "        "
   ]
  },
  {
   "cell_type": "code",
   "execution_count": 21,
   "metadata": {
    "collapsed": true
   },
   "outputs": [],
   "source": [
    "class LogisticRegression(object):\n",
    "    import numpy as np\n",
    "    #shared varaibles are defined here because they are coming from input data which is in numpy arrays\n",
    "    def __init__(self, input, n_in, n_out):\n",
    "        '''initialize with zeroes a matrix of ninxnout'''\n",
    "        self.W = theano.shared( value = numpy.zeros((n_in,n_out), dtype = theano.config.floatX), \n",
    "                               name = 'W', borrow = True)\n",
    "        self.b = theano.shared(value = numpy.zeros((n_out,), dtype = theano.config.floatX), \n",
    "                               name = 'b', borrow = True)\n",
    "        self.p_y_given_x = T.nnet.softmax(T.dot(input,self.W) + self.b)\n",
    "        self.y_pred = T.argmax(self.p_y_given_x, axis = 1)\n",
    "        self.params = [self.W, self.b]\n",
    "        self.input = input\n",
    "    def negative_log_likelihood(self,y):\n",
    "        return -T.mean(T.log(self.p_y_given_x)[T.arange(y.shape[0]), y])\n",
    "    def errors(self,y):\n",
    "        if y.ndim != self.y_pred.ndim: \n",
    "            raise TypeError('y should have the same shape as self.y_pred'('y', y.type, 'yprred',\n",
    "                                                                          self.y_pred.type))\n",
    "        if y.dtype.startswith('int'):\n",
    "            return T.mean(T.neq(self.y_pred, y))\n",
    "        else:\n",
    "            raise NotImplementedError()"
   ]
  },
  {
   "cell_type": "code",
   "execution_count": 22,
   "metadata": {
    "collapsed": false
   },
   "outputs": [],
   "source": [
    "class MLP(object):\n",
    "    def __init__(self,nin,nout,input,nhidden,rng):\n",
    "        #each of the self.thing here is callable from the instance of mlp. so what doe i need out of mlp\n",
    "        # i need cost_method,l1,l2,error,params, hidden layer, logisitc layer\n",
    "        self.Hidden_layer = hiddenLayer(self, rng, input, nin, nout, nhidden ) #use the hidden layer class\n",
    "        self.Logistic_layer = LogisticRegression(input, nhidden, nout)#use the logistic layer class\n",
    "        #self.l1 = abs(self.Hidden_layer.W) + abs(self.Logistic_layer.W)#get regularizations\n",
    "        #self.l2 =  (self.Hidden_layer.W ** 2).sum() + (self.Logistic_layer.W ** 2).sum()\n",
    "        self.neg_log_likelihood = (self.Logistic_layer.negative_log_likelihood)\n",
    "        self.errors = self.Logistic_layer.errors\n",
    "        self.params =  self.Logistic_layer.params"
   ]
  },
  {
   "cell_type": "code",
   "execution_count": 23,
   "metadata": {
    "collapsed": false
   },
   "outputs": [
    {
     "ename": "NameError",
     "evalue": "name 'classifier' is not defined",
     "output_type": "error",
     "traceback": [
      "\u001b[1;31m---------------------------------------------------------------------------\u001b[0m",
      "\u001b[1;31mNameError\u001b[0m                                 Traceback (most recent call last)",
      "\u001b[1;32m<ipython-input-23-62c11adb186b>\u001b[0m in \u001b[0;36m<module>\u001b[1;34m()\u001b[0m\n\u001b[1;32m----> 1\u001b[1;33m \u001b[0mclassifier\u001b[0m\u001b[1;33m.\u001b[0m\u001b[0mparams\u001b[0m\u001b[1;33m\u001b[0m\u001b[0m\n\u001b[0m",
      "\u001b[1;31mNameError\u001b[0m: name 'classifier' is not defined"
     ]
    }
   ],
   "source": [
    "classifier.params"
   ]
  },
  {
   "cell_type": "code",
   "execution_count": 50,
   "metadata": {
    "collapsed": false
   },
   "outputs": [],
   "source": [
    "def theanofunctions(batch_size,datax,datay, nh =784,learning_rate=0.01):\n",
    "    ##define theano symbolic varaibles    index = T.lscalar()\n",
    "    x = T.matrix('x')#declare varaibles that will be stand in for data in theano functions\n",
    "    y= T.ivector('y')\n",
    "    index = T.lscalar()\n",
    "    #l1_reg=0.00\n",
    "    #l2_reg=0.0001\n",
    "    rng = numpy.random.rand(1234) #3 seed the random state\n",
    "    \n",
    "    classifier = MLP(input = x, nin = 28*28, nhidden = nh, nout =600 , rng = rng) # use the MLP class#nhidden is hard coded in\n",
    "    cost = classifier.neg_log_likelihood(y)\n",
    "    \n",
    "    def createmodel(outputs ,index, datax, datay, batch_size,updates):\n",
    "        model = theano.function(inputs = [index] , outputs = outputs , updates = updates\n",
    "                                , givens = {x : datax[index*batch_size : (index+1) * batch_size], \n",
    "                                                            y : datay[index*batch_size : (index+1) * batch_size]})\n",
    "        return model\n",
    "    \n",
    "    test_model = createmodel(classifier.errors(y), index, test_set_x, test_set_y, 600, None)\n",
    "    valid_model = createmodel(classifier.errors(y) , index, valid_set_x, valid_set_y, 600,None)     \n",
    "    gparams = [T.grad(cost, param) for param in classifier.params] # take the gradient with respect to each variable, but currently no varaible in 2 of the places\n",
    "    updates = [(param, param - learning_rate * gparam) for param, gparam in zip(classifier.params, gparams)]\n",
    "    \n",
    "    \n",
    "    train_model = createmodel(cost, index, train_set_x, train_set_y, 600, updates=updates)\n",
    "   \n",
    "    return train_model, test_model, valid_model\n",
    "                \n",
    "    \n",
    "    \n",
    "\n",
    "\n"
   ]
  },
  {
   "cell_type": "code",
   "execution_count": 51,
   "metadata": {
    "collapsed": false
   },
   "outputs": [
    {
     "data": {
      "text/plain": [
       "(<theano.compile.function_module.Function at 0x7efcf51031d0>,\n",
       " <theano.compile.function_module.Function at 0x7efd04e11150>,\n",
       " <theano.compile.function_module.Function at 0x7efcf5240d90>)"
      ]
     },
     "execution_count": 51,
     "metadata": {},
     "output_type": "execute_result"
    }
   ],
   "source": [
    "ds = load_data('MNIST')\n",
    "train_set_x , train_set_y, valid_set_x, valid_set_y, test_set_x, test_set_y, n_train_batches, n_valid_batches,n_test_batches = splitNum(ds , 600)\n",
    "train_model , test_mdoel, valid_model = theanofunctions(600,train_set_x , train_set_y)"
   ]
  },
  {
   "cell_type": "code",
   "execution_count": null,
   "metadata": {
    "collapsed": false
   },
   "outputs": [],
   "source": [
    "def train_mlp(learning_rate=0.01, L1_reg=0.00, L2_reg=0.0001, n_epochs=1,\n",
    "         dataset='mnist.pkl.gz', batch_size=20, n_hidden=4):\n",
    "    #define hyper paramaters \n",
    "    print(\"start looping\")\n",
    "    ds = load_data('MNIST')\n",
    "    train_set_x , train_set_y, valid_set_x, valid_set_y, test_set_x, test_set_y, n_train_batches, n_valid_batches,n_test_batches = splitNum(ds , 600)\n",
    "    train_model , test_mdoel, valid_model = theanofunctions(600,train_set_x , train_set_y)\n",
    "    patience = 10  # look as this many examples regardless\n",
    "    patience_increase = 2  # wait this much longer when a new best is\n",
    "                           # found\n",
    "    improvement_threshold = 0.995  # a relative improvement of this much is\n",
    "                                   # considered significant\n",
    "    validation_frequency = min(n_train_batches, patience / 2)\n",
    "                                  # go through this many\n",
    "                                  # minibatche before checking the network\n",
    "                                  # on the validation set; in this case we\n",
    "                                  # check every epoch\n",
    "    best_validation_loss = numpy.inf\n",
    "    best_iter = 0\n",
    "    test_score = 0.\n",
    "    start_time = timeit.default_timer()\n",
    "\n",
    "    epoch = 0\n",
    "    done_looping = True\n",
    "    print(\"start looping\")\n",
    "    while (epoch < n_epochs) and ( done_looping):\n",
    "        epoch = epoch + 1\n",
    "        print(epoch)\n",
    "        for minibatch_index in xrange(2):\n",
    "            print(\"minibatch_index: %d\", minibatch_index)\n",
    "            mb_avg_cost = train_model(minibatch_index)\n",
    "            iter = (epoch - 1) * n_train_batches + minibatch_index\n",
    "            if (iter + 1) %validation_frequency == 0: \n",
    "\n",
    "                validation_loss = [valid_model(i) for i in xrange(n_valid_batches)]\n",
    "                this_validation_loss = numpy.mean(validation_loss)\n",
    "                if this_validation_loss < best_validation_loss:\n",
    "                    if this_validation_loss < best_validation_loss *improvement_threshold:\n",
    "                        patience = max(patience, iter * patience_increase)\n",
    "                    best_validation_loss = this_validation_loss\n",
    "                    best_iter = iter \n",
    "                    test_losses = [test_model(i) for i in xrange(n_test_batches)]\n",
    "                    test_score = numpy. mean(test_losses)\n",
    "            if patience <= iter:\n",
    "                done_looping = True\n",
    "                break\n",
    "    end_time = timeit.default_timer()\n",
    "    print(('Optimization complete. Best validation score of %f %% '\n",
    "    'obtained at iteration %i, with test performance %f %%') %\n",
    "    (best_validation_loss * 100., best_iter + 1, test_score * 100.))\n",
    "train_mlp()\n",
    "                \n",
    "    "
   ]
  },
  {
   "cell_type": "code",
   "execution_count": 32,
   "metadata": {
    "collapsed": false
   },
   "outputs": [],
   "source": []
  },
  {
   "cell_type": "code",
   "execution_count": 31,
   "metadata": {
    "collapsed": false
   },
   "outputs": [
    {
     "name": "stdout",
     "output_type": "stream",
     "text": [
      "start looping\n",
      "start looping\n"
     ]
    },
    {
     "ename": "NameError",
     "evalue": "global name 'train_model' is not defined",
     "output_type": "error",
     "traceback": [
      "\u001b[1;31m---------------------------------------------------------------------------\u001b[0m",
      "\u001b[1;31mNameError\u001b[0m                                 Traceback (most recent call last)",
      "\u001b[1;32m<ipython-input-31-6aa63e3d850e>\u001b[0m in \u001b[0;36m<module>\u001b[1;34m()\u001b[0m\n\u001b[1;32m----> 1\u001b[1;33m \u001b[0mtrain_mlp\u001b[0m\u001b[1;33m(\u001b[0m\u001b[1;33m)\u001b[0m\u001b[1;33m\u001b[0m\u001b[0m\n\u001b[0m",
      "\u001b[1;32m<ipython-input-25-341c75d07a76>\u001b[0m in \u001b[0;36mtrain_mlp\u001b[1;34m(learning_rate, L1_reg, L2_reg, n_epochs, dataset, batch_size, n_hidden)\u001b[0m\n\u001b[0;32m     24\u001b[0m         \u001b[0mepcoh\u001b[0m \u001b[1;33m=\u001b[0m \u001b[0mepoch\u001b[0m \u001b[1;33m+\u001b[0m \u001b[1;36m1\u001b[0m\u001b[1;33m\u001b[0m\u001b[0m\n\u001b[0;32m     25\u001b[0m         \u001b[1;32mfor\u001b[0m \u001b[0mminibatch_index\u001b[0m \u001b[1;32min\u001b[0m \u001b[0mxrange\u001b[0m\u001b[1;33m(\u001b[0m\u001b[0mn_train_batches\u001b[0m\u001b[1;33m)\u001b[0m\u001b[1;33m:\u001b[0m\u001b[1;33m\u001b[0m\u001b[0m\n\u001b[1;32m---> 26\u001b[1;33m             \u001b[0mmb_avg_cost\u001b[0m \u001b[1;33m=\u001b[0m \u001b[0mtrain_model\u001b[0m\u001b[1;33m(\u001b[0m\u001b[0mminibatch_index\u001b[0m\u001b[1;33m)\u001b[0m\u001b[1;33m\u001b[0m\u001b[0m\n\u001b[0m\u001b[0;32m     27\u001b[0m             \u001b[0miter\u001b[0m \u001b[1;33m=\u001b[0m \u001b[1;33m(\u001b[0m\u001b[0mepoch\u001b[0m \u001b[1;33m-\u001b[0m \u001b[1;36m1\u001b[0m\u001b[1;33m)\u001b[0m \u001b[1;33m*\u001b[0m \u001b[0mn_train_batches\u001b[0m \u001b[1;33m+\u001b[0m \u001b[0mminibatch_index\u001b[0m\u001b[1;33m\u001b[0m\u001b[0m\n\u001b[0;32m     28\u001b[0m             \u001b[1;32mif\u001b[0m \u001b[1;33m(\u001b[0m\u001b[0miter\u001b[0m \u001b[1;33m+\u001b[0m \u001b[1;36m1\u001b[0m\u001b[1;33m)\u001b[0m \u001b[1;33m%\u001b[0m\u001b[0mvalidation_frequency\u001b[0m \u001b[1;33m==\u001b[0m \u001b[1;36m0\u001b[0m\u001b[1;33m:\u001b[0m\u001b[1;33m\u001b[0m\u001b[0m\n",
      "\u001b[1;31mNameError\u001b[0m: global name 'train_model' is not defined"
     ]
    }
   ],
   "source": [
    "train_mlp()"
   ]
  },
  {
   "cell_type": "code",
   "execution_count": null,
   "metadata": {
    "collapsed": true
   },
   "outputs": [],
   "source": []
  },
  {
   "cell_type": "code",
   "execution_count": null,
   "metadata": {
    "collapsed": true
   },
   "outputs": [],
   "source": [
    "def runcheck(minibatch_index):\n",
    "    mb_avg_cost = train_model(minibatch_index) #this function should have access to all of the theano functions\n",
    "    iter = (epoch - 1) * n_train_batches + minibatch_index#also n_train_batches,valid,test\n",
    "    if (iter + 1) %validation_frequency == 0: #also val freq\n",
    "\n",
    "        validation_loss = [validate_model(i) for i in xrange num_valid_batches] \n",
    "        this_val_loss = numpy.mean(validation_losses)\n",
    "        if this validation_loss < best_validation_loss: #also best_val_loss\n",
    "            if this_validation_loss < best_validation_loss *improvement_threshold):\n",
    "                patience = max(patience, iter * patience_increase)\n",
    "            best_validation_loss = this_validation_loss#\n",
    "            best_iter = iter \n",
    "            test_losses = [test_model(i) for i in xrange(num_test_batches)]\n",
    "            test_score = numpy. mean(test_losses)\n",
    "    if patience <= iter:\n",
    "        done_looping = True\n",
    "        break"
   ]
  },
  {
   "cell_type": "code",
   "execution_count": null,
   "metadata": {
    "collapsed": false
   },
   "outputs": [],
   "source": []
  },
  {
   "cell_type": "code",
   "execution_count": null,
   "metadata": {
    "collapsed": true
   },
   "outputs": [],
   "source": [
    "train_mlp()"
   ]
  },
  {
   "cell_type": "code",
   "execution_count": null,
   "metadata": {
    "collapsed": true
   },
   "outputs": [],
   "source": []
  },
  {
   "cell_type": "code",
   "execution_count": null,
   "metadata": {
    "collapsed": false
   },
   "outputs": [],
   "source": [
    "x = T.matrix('x')#declare varaibles that will be stand in for data in theano functions\n",
    "y= T.ivector('y')\n",
    "index = T.lscalar()\n",
    "l1_reg=0.00\n",
    "l2_reg=0.0001\n",
    "rng = numpy.random.rand(1234) #3 seed the random state\n",
    "\n",
    "classifier = MLP(input = x, nin = 28*28, nhidden = 5, nout = 10, rng = rng) # use the MLP class\n",
    "cost = (classifier.neg_log_likelihood(y) + l1_reg * classifier.l1 + l2_reg*classifier.l2)\n"
   ]
  },
  {
   "cell_type": "code",
   "execution_count": null,
   "metadata": {
    "collapsed": true
   },
   "outputs": [],
   "source": []
  },
  {
   "cell_type": "code",
   "execution_count": null,
   "metadata": {
    "collapsed": true
   },
   "outputs": [],
   "source": []
  },
  {
   "cell_type": "code",
   "execution_count": null,
   "metadata": {
    "collapsed": true
   },
   "outputs": [],
   "source": []
  },
  {
   "cell_type": "code",
   "execution_count": null,
   "metadata": {
    "collapsed": true
   },
   "outputs": [],
   "source": []
  }
 ],
 "metadata": {
  "kernelspec": {
   "display_name": "Python 2",
   "language": "python",
   "name": "python2"
  },
  "language_info": {
   "codemirror_mode": {
    "name": "ipython",
    "version": 2
   },
   "file_extension": ".py",
   "mimetype": "text/x-python",
   "name": "python",
   "nbconvert_exporter": "python",
   "pygments_lexer": "ipython2",
   "version": "2.7.9"
  }
 },
 "nbformat": 4,
 "nbformat_minor": 0
}
